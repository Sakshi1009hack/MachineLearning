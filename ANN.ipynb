{
  "nbformat": 4,
  "nbformat_minor": 0,
  "metadata": {
    "colab": {
      "provenance": [],
      "include_colab_link": true
    },
    "kernelspec": {
      "name": "python3",
      "display_name": "Python 3"
    },
    "language_info": {
      "name": "python"
    }
  },
  "cells": [
    {
      "cell_type": "markdown",
      "metadata": {
        "id": "view-in-github",
        "colab_type": "text"
      },
      "source": [
        "<a href=\"https://colab.research.google.com/github/Sakshi1009hack/MachineLearning/blob/main/ANN.ipynb\" target=\"_parent\"><img src=\"https://colab.research.google.com/assets/colab-badge.svg\" alt=\"Open In Colab\"/></a>"
      ]
    },
    {
      "cell_type": "code",
      "source": [
        "from keras.datasets import mnist\n",
        "(train_images, train_labels), (test_images, test_labels) = mnist.load_data()\n"
      ],
      "metadata": {
        "id": "S-tVYhz9oJjn"
      },
      "execution_count": 6,
      "outputs": []
    },
    {
      "cell_type": "code",
      "source": [
        "train_images.shape\n",
        "len(train_labels)\n",
        "train_labels\n",
        "test_images.shape\n",
        "len(test_labels)\n",
        "test_labels\n"
      ],
      "metadata": {
        "id": "W5lXpBuzoTwx",
        "colab": {
          "base_uri": "https://localhost:8080/"
        },
        "outputId": "0a0ea4b3-20d0-4318-fe3d-094c7670d6f6"
      },
      "execution_count": 9,
      "outputs": [
        {
          "output_type": "execute_result",
          "data": {
            "text/plain": [
              "array([7, 2, 1, ..., 4, 5, 6], dtype=uint8)"
            ]
          },
          "metadata": {},
          "execution_count": 9
        }
      ]
    },
    {
      "cell_type": "markdown",
      "source": [
        "The network architecture"
      ],
      "metadata": {
        "id": "lY9QnJc8oW98"
      }
    },
    {
      "cell_type": "code",
      "source": [
        "from keras import models\n",
        "from keras import layers\n",
        "network = models.Sequential()\n",
        "# Dense(32) is a fully-connected layer with 32 hidden units.\n",
        "# in the first layer, you must specify the expected input data shape :\n",
        "# here, 28 X 28=784 -dimensional vectors.\n",
        "network.add(layers.Dense(32, activation='sigmoid', input_shape=(28 * 28, )))\n",
        "network.add(layers.Dense(8, activation='sigmoid'))\n",
        "network.add(layers.Dense(10, activation='softmax'))\n",
        "network.summary()\n",
        "from google.colab import drive\n",
        "drive.mount('/content/drive')\n"
      ],
      "metadata": {
        "colab": {
          "base_uri": "https://localhost:8080/"
        },
        "id": "bDQ0ElvPoZH6",
        "outputId": "a31dd83c-b1e6-43e5-b797-42666c0b5197"
      },
      "execution_count": 11,
      "outputs": [
        {
          "output_type": "stream",
          "name": "stdout",
          "text": [
            "Model: \"sequential_2\"\n",
            "_________________________________________________________________\n",
            " Layer (type)                Output Shape              Param #   \n",
            "=================================================================\n",
            " dense_6 (Dense)             (None, 32)                25120     \n",
            "                                                                 \n",
            " dense_7 (Dense)             (None, 8)                 264       \n",
            "                                                                 \n",
            " dense_8 (Dense)             (None, 10)                90        \n",
            "                                                                 \n",
            "=================================================================\n",
            "Total params: 25474 (99.51 KB)\n",
            "Trainable params: 25474 (99.51 KB)\n",
            "Non-trainable params: 0 (0.00 Byte)\n",
            "_________________________________________________________________\n",
            "Mounted at /content/drive\n"
          ]
        }
      ]
    },
    {
      "cell_type": "markdown",
      "source": [
        "The compilation step"
      ],
      "metadata": {
        "id": "U7I7xhQjoeWH"
      }
    },
    {
      "cell_type": "code",
      "source": [
        "network.compile(optimizer='sgd',\n",
        "                loss='categorical_crossentropy',\n",
        "                metrics=['accuracy'])"
      ],
      "metadata": {
        "id": "_AkirVt0oe6B"
      },
      "execution_count": 12,
      "outputs": []
    },
    {
      "cell_type": "markdown",
      "source": [
        "Preparing the image data"
      ],
      "metadata": {
        "id": "Frz-vGxWogvz"
      }
    },
    {
      "cell_type": "code",
      "source": [
        "train_images = train_images.reshape((60000, 28 * 28))\n",
        "train_images = train_images.astype('float32') / 255.\n",
        "test_images = test_images.reshape((10000, 28 * 28))\n",
        "test_images = test_images.astype('float32') / 255."
      ],
      "metadata": {
        "id": "0LwIHz42oi7A"
      },
      "execution_count": 13,
      "outputs": []
    },
    {
      "cell_type": "markdown",
      "source": [
        "Preparing the labels"
      ],
      "metadata": {
        "id": "xa8dldHFonMc"
      }
    },
    {
      "cell_type": "code",
      "source": [
        "from keras.utils import to_categorical\n",
        "train_labels = to_categorical(train_labels)\n",
        "train_labels\n",
        "test_labels = to_categorical(test_labels)\n",
        "test_labels\n"
      ],
      "metadata": {
        "colab": {
          "base_uri": "https://localhost:8080/"
        },
        "id": "C7cSamqnoprH",
        "outputId": "081281c8-ebe7-406f-8beb-fe85be02e5ba"
      },
      "execution_count": 14,
      "outputs": [
        {
          "output_type": "execute_result",
          "data": {
            "text/plain": [
              "array([[0., 0., 0., ..., 1., 0., 0.],\n",
              "       [0., 0., 1., ..., 0., 0., 0.],\n",
              "       [0., 1., 0., ..., 0., 0., 0.],\n",
              "       ...,\n",
              "       [0., 0., 0., ..., 0., 0., 0.],\n",
              "       [0., 0., 0., ..., 0., 0., 0.],\n",
              "       [0., 0., 0., ..., 0., 0., 0.]], dtype=float32)"
            ]
          },
          "metadata": {},
          "execution_count": 14
        }
      ]
    },
    {
      "cell_type": "markdown",
      "source": [
        "Training and Testing"
      ],
      "metadata": {
        "id": "MdyP_vQyossQ"
      }
    },
    {
      "cell_type": "code",
      "source": [
        "network.fit(train_images, train_labels, epochs=160, batch_size=512)"
      ],
      "metadata": {
        "colab": {
          "base_uri": "https://localhost:8080/"
        },
        "id": "xyUWJqXrouuJ",
        "outputId": "f09652ed-1b85-4919-f2de-201b024b9c4f"
      },
      "execution_count": 15,
      "outputs": [
        {
          "output_type": "stream",
          "name": "stdout",
          "text": [
            "Epoch 1/160\n",
            "118/118 [==============================] - 2s 7ms/step - loss: 2.3458 - accuracy: 0.1022\n",
            "Epoch 2/160\n",
            "118/118 [==============================] - 1s 7ms/step - loss: 2.3088 - accuracy: 0.1022\n",
            "Epoch 3/160\n",
            "118/118 [==============================] - 1s 4ms/step - loss: 2.2925 - accuracy: 0.0995\n",
            "Epoch 4/160\n",
            "118/118 [==============================] - 0s 4ms/step - loss: 2.2823 - accuracy: 0.0995\n",
            "Epoch 5/160\n",
            "118/118 [==============================] - 0s 4ms/step - loss: 2.2743 - accuracy: 0.1480\n",
            "Epoch 6/160\n",
            "118/118 [==============================] - 0s 4ms/step - loss: 2.2670 - accuracy: 0.1743\n",
            "Epoch 7/160\n",
            "118/118 [==============================] - 0s 4ms/step - loss: 2.2599 - accuracy: 0.1865\n",
            "Epoch 8/160\n",
            "118/118 [==============================] - 0s 4ms/step - loss: 2.2527 - accuracy: 0.1967\n",
            "Epoch 9/160\n",
            "118/118 [==============================] - 0s 4ms/step - loss: 2.2453 - accuracy: 0.2093\n",
            "Epoch 10/160\n",
            "118/118 [==============================] - 0s 4ms/step - loss: 2.2376 - accuracy: 0.2204\n",
            "Epoch 11/160\n",
            "118/118 [==============================] - 0s 4ms/step - loss: 2.2294 - accuracy: 0.2292\n",
            "Epoch 12/160\n",
            "118/118 [==============================] - 0s 4ms/step - loss: 2.2208 - accuracy: 0.2429\n",
            "Epoch 13/160\n",
            "118/118 [==============================] - 0s 4ms/step - loss: 2.2117 - accuracy: 0.2495\n",
            "Epoch 14/160\n",
            "118/118 [==============================] - 1s 5ms/step - loss: 2.2020 - accuracy: 0.2627\n",
            "Epoch 15/160\n",
            "118/118 [==============================] - 1s 6ms/step - loss: 2.1918 - accuracy: 0.2759\n",
            "Epoch 16/160\n",
            "118/118 [==============================] - 1s 5ms/step - loss: 2.1809 - accuracy: 0.2865\n",
            "Epoch 17/160\n",
            "118/118 [==============================] - 0s 4ms/step - loss: 2.1694 - accuracy: 0.3028\n",
            "Epoch 18/160\n",
            "118/118 [==============================] - 0s 4ms/step - loss: 2.1572 - accuracy: 0.3117\n",
            "Epoch 19/160\n",
            "118/118 [==============================] - 0s 4ms/step - loss: 2.1443 - accuracy: 0.3308\n",
            "Epoch 20/160\n",
            "118/118 [==============================] - 0s 4ms/step - loss: 2.1307 - accuracy: 0.3384\n",
            "Epoch 21/160\n",
            "118/118 [==============================] - 0s 4ms/step - loss: 2.1164 - accuracy: 0.3554\n",
            "Epoch 22/160\n",
            "118/118 [==============================] - 0s 4ms/step - loss: 2.1014 - accuracy: 0.3710\n",
            "Epoch 23/160\n",
            "118/118 [==============================] - 1s 6ms/step - loss: 2.0858 - accuracy: 0.3838\n",
            "Epoch 24/160\n",
            "118/118 [==============================] - 1s 6ms/step - loss: 2.0695 - accuracy: 0.3928\n",
            "Epoch 25/160\n",
            "118/118 [==============================] - 1s 7ms/step - loss: 2.0526 - accuracy: 0.4034\n",
            "Epoch 26/160\n",
            "118/118 [==============================] - 1s 6ms/step - loss: 2.0351 - accuracy: 0.4121\n",
            "Epoch 27/160\n",
            "118/118 [==============================] - 1s 7ms/step - loss: 2.0171 - accuracy: 0.4301\n",
            "Epoch 28/160\n",
            "118/118 [==============================] - 1s 5ms/step - loss: 1.9985 - accuracy: 0.4347\n",
            "Epoch 29/160\n",
            "118/118 [==============================] - 0s 4ms/step - loss: 1.9796 - accuracy: 0.4528\n",
            "Epoch 30/160\n",
            "118/118 [==============================] - 0s 4ms/step - loss: 1.9602 - accuracy: 0.4589\n",
            "Epoch 31/160\n",
            "118/118 [==============================] - 0s 4ms/step - loss: 1.9406 - accuracy: 0.4721\n",
            "Epoch 32/160\n",
            "118/118 [==============================] - 0s 4ms/step - loss: 1.9207 - accuracy: 0.4805\n",
            "Epoch 33/160\n",
            "118/118 [==============================] - 0s 4ms/step - loss: 1.9006 - accuracy: 0.4874\n",
            "Epoch 34/160\n",
            "118/118 [==============================] - 0s 4ms/step - loss: 1.8804 - accuracy: 0.4932\n",
            "Epoch 35/160\n",
            "118/118 [==============================] - 1s 4ms/step - loss: 1.8602 - accuracy: 0.5057\n",
            "Epoch 36/160\n",
            "118/118 [==============================] - 1s 4ms/step - loss: 1.8400 - accuracy: 0.5127\n",
            "Epoch 37/160\n",
            "118/118 [==============================] - 1s 4ms/step - loss: 1.8198 - accuracy: 0.5176\n",
            "Epoch 38/160\n",
            "118/118 [==============================] - 0s 4ms/step - loss: 1.7997 - accuracy: 0.5232\n",
            "Epoch 39/160\n",
            "118/118 [==============================] - 1s 4ms/step - loss: 1.7798 - accuracy: 0.5311\n",
            "Epoch 40/160\n",
            "118/118 [==============================] - 0s 4ms/step - loss: 1.7601 - accuracy: 0.5362\n",
            "Epoch 41/160\n",
            "118/118 [==============================] - 1s 4ms/step - loss: 1.7406 - accuracy: 0.5430\n",
            "Epoch 42/160\n",
            "118/118 [==============================] - 0s 4ms/step - loss: 1.7214 - accuracy: 0.5478\n",
            "Epoch 43/160\n",
            "118/118 [==============================] - 0s 4ms/step - loss: 1.7024 - accuracy: 0.5509\n",
            "Epoch 44/160\n",
            "118/118 [==============================] - 0s 4ms/step - loss: 1.6837 - accuracy: 0.5562\n",
            "Epoch 45/160\n",
            "118/118 [==============================] - 1s 4ms/step - loss: 1.6653 - accuracy: 0.5605\n",
            "Epoch 46/160\n",
            "118/118 [==============================] - 0s 4ms/step - loss: 1.6472 - accuracy: 0.5659\n",
            "Epoch 47/160\n",
            "118/118 [==============================] - 1s 4ms/step - loss: 1.6294 - accuracy: 0.5701\n",
            "Epoch 48/160\n",
            "118/118 [==============================] - 1s 5ms/step - loss: 1.6119 - accuracy: 0.5759\n",
            "Epoch 49/160\n",
            "118/118 [==============================] - 1s 7ms/step - loss: 1.5946 - accuracy: 0.5815\n",
            "Epoch 50/160\n",
            "118/118 [==============================] - 1s 7ms/step - loss: 1.5776 - accuracy: 0.5862\n",
            "Epoch 51/160\n",
            "118/118 [==============================] - 1s 6ms/step - loss: 1.5609 - accuracy: 0.5904\n",
            "Epoch 52/160\n",
            "118/118 [==============================] - 1s 7ms/step - loss: 1.5444 - accuracy: 0.5971\n",
            "Epoch 53/160\n",
            "118/118 [==============================] - 1s 6ms/step - loss: 1.5281 - accuracy: 0.6018\n",
            "Epoch 54/160\n",
            "118/118 [==============================] - 1s 4ms/step - loss: 1.5121 - accuracy: 0.6068\n",
            "Epoch 55/160\n",
            "118/118 [==============================] - 0s 4ms/step - loss: 1.4962 - accuracy: 0.6123\n",
            "Epoch 56/160\n",
            "118/118 [==============================] - 0s 4ms/step - loss: 1.4806 - accuracy: 0.6176\n",
            "Epoch 57/160\n",
            "118/118 [==============================] - 0s 4ms/step - loss: 1.4652 - accuracy: 0.6222\n",
            "Epoch 58/160\n",
            "118/118 [==============================] - 0s 4ms/step - loss: 1.4500 - accuracy: 0.6267\n",
            "Epoch 59/160\n",
            "118/118 [==============================] - 1s 4ms/step - loss: 1.4349 - accuracy: 0.6315\n",
            "Epoch 60/160\n",
            "118/118 [==============================] - 0s 4ms/step - loss: 1.4200 - accuracy: 0.6371\n",
            "Epoch 61/160\n",
            "118/118 [==============================] - 0s 4ms/step - loss: 1.4053 - accuracy: 0.6422\n",
            "Epoch 62/160\n",
            "118/118 [==============================] - 0s 4ms/step - loss: 1.3908 - accuracy: 0.6475\n",
            "Epoch 63/160\n",
            "118/118 [==============================] - 0s 4ms/step - loss: 1.3764 - accuracy: 0.6517\n",
            "Epoch 64/160\n",
            "118/118 [==============================] - 0s 4ms/step - loss: 1.3621 - accuracy: 0.6566\n",
            "Epoch 65/160\n",
            "118/118 [==============================] - 0s 4ms/step - loss: 1.3481 - accuracy: 0.6617\n",
            "Epoch 66/160\n",
            "118/118 [==============================] - 0s 4ms/step - loss: 1.3341 - accuracy: 0.6656\n",
            "Epoch 67/160\n",
            "118/118 [==============================] - 0s 4ms/step - loss: 1.3204 - accuracy: 0.6705\n",
            "Epoch 68/160\n",
            "118/118 [==============================] - 0s 4ms/step - loss: 1.3067 - accuracy: 0.6747\n",
            "Epoch 69/160\n",
            "118/118 [==============================] - 1s 4ms/step - loss: 1.2932 - accuracy: 0.6787\n",
            "Epoch 70/160\n",
            "118/118 [==============================] - 0s 4ms/step - loss: 1.2799 - accuracy: 0.6833\n",
            "Epoch 71/160\n",
            "118/118 [==============================] - 0s 4ms/step - loss: 1.2667 - accuracy: 0.6873\n",
            "Epoch 72/160\n",
            "118/118 [==============================] - 0s 4ms/step - loss: 1.2536 - accuracy: 0.6914\n",
            "Epoch 73/160\n",
            "118/118 [==============================] - 0s 4ms/step - loss: 1.2407 - accuracy: 0.6952\n",
            "Epoch 74/160\n",
            "118/118 [==============================] - 1s 6ms/step - loss: 1.2279 - accuracy: 0.6982\n",
            "Epoch 75/160\n",
            "118/118 [==============================] - 1s 6ms/step - loss: 1.2153 - accuracy: 0.7018\n",
            "Epoch 76/160\n",
            "118/118 [==============================] - 1s 7ms/step - loss: 1.2028 - accuracy: 0.7050\n",
            "Epoch 77/160\n",
            "118/118 [==============================] - 1s 6ms/step - loss: 1.1904 - accuracy: 0.7084\n",
            "Epoch 78/160\n",
            "118/118 [==============================] - 1s 7ms/step - loss: 1.1782 - accuracy: 0.7122\n",
            "Epoch 79/160\n",
            "118/118 [==============================] - 1s 6ms/step - loss: 1.1661 - accuracy: 0.7157\n",
            "Epoch 80/160\n",
            "118/118 [==============================] - 0s 4ms/step - loss: 1.1541 - accuracy: 0.7182\n",
            "Epoch 81/160\n",
            "118/118 [==============================] - 0s 4ms/step - loss: 1.1423 - accuracy: 0.7209\n",
            "Epoch 82/160\n",
            "118/118 [==============================] - 0s 4ms/step - loss: 1.1306 - accuracy: 0.7245\n",
            "Epoch 83/160\n",
            "118/118 [==============================] - 0s 4ms/step - loss: 1.1190 - accuracy: 0.7269\n",
            "Epoch 84/160\n",
            "118/118 [==============================] - 0s 4ms/step - loss: 1.1076 - accuracy: 0.7304\n",
            "Epoch 85/160\n",
            "118/118 [==============================] - 0s 4ms/step - loss: 1.0963 - accuracy: 0.7329\n",
            "Epoch 86/160\n",
            "118/118 [==============================] - 0s 4ms/step - loss: 1.0852 - accuracy: 0.7356\n",
            "Epoch 87/160\n",
            "118/118 [==============================] - 0s 4ms/step - loss: 1.0742 - accuracy: 0.7381\n",
            "Epoch 88/160\n",
            "118/118 [==============================] - 0s 4ms/step - loss: 1.0634 - accuracy: 0.7407\n",
            "Epoch 89/160\n",
            "118/118 [==============================] - 0s 4ms/step - loss: 1.0527 - accuracy: 0.7434\n",
            "Epoch 90/160\n",
            "118/118 [==============================] - 0s 4ms/step - loss: 1.0422 - accuracy: 0.7464\n",
            "Epoch 91/160\n",
            "118/118 [==============================] - 0s 4ms/step - loss: 1.0319 - accuracy: 0.7488\n",
            "Epoch 92/160\n",
            "118/118 [==============================] - 0s 4ms/step - loss: 1.0217 - accuracy: 0.7511\n",
            "Epoch 93/160\n",
            "118/118 [==============================] - 0s 4ms/step - loss: 1.0117 - accuracy: 0.7536\n",
            "Epoch 94/160\n",
            "118/118 [==============================] - 0s 4ms/step - loss: 1.0019 - accuracy: 0.7560\n",
            "Epoch 95/160\n",
            "118/118 [==============================] - 0s 4ms/step - loss: 0.9922 - accuracy: 0.7581\n",
            "Epoch 96/160\n",
            "118/118 [==============================] - 1s 4ms/step - loss: 0.9828 - accuracy: 0.7600\n",
            "Epoch 97/160\n",
            "118/118 [==============================] - 0s 4ms/step - loss: 0.9735 - accuracy: 0.7620\n",
            "Epoch 98/160\n",
            "118/118 [==============================] - 0s 4ms/step - loss: 0.9644 - accuracy: 0.7642\n",
            "Epoch 99/160\n",
            "118/118 [==============================] - 0s 4ms/step - loss: 0.9554 - accuracy: 0.7661\n",
            "Epoch 100/160\n",
            "118/118 [==============================] - 1s 6ms/step - loss: 0.9467 - accuracy: 0.7679\n",
            "Epoch 101/160\n",
            "118/118 [==============================] - 1s 7ms/step - loss: 0.9381 - accuracy: 0.7696\n",
            "Epoch 102/160\n",
            "118/118 [==============================] - 1s 6ms/step - loss: 0.9297 - accuracy: 0.7717\n",
            "Epoch 103/160\n",
            "118/118 [==============================] - 1s 6ms/step - loss: 0.9215 - accuracy: 0.7736\n",
            "Epoch 104/160\n",
            "118/118 [==============================] - 1s 6ms/step - loss: 0.9135 - accuracy: 0.7757\n",
            "Epoch 105/160\n",
            "118/118 [==============================] - 1s 6ms/step - loss: 0.9056 - accuracy: 0.7773\n",
            "Epoch 106/160\n",
            "118/118 [==============================] - 0s 4ms/step - loss: 0.8979 - accuracy: 0.7790\n",
            "Epoch 107/160\n",
            "118/118 [==============================] - 0s 4ms/step - loss: 0.8904 - accuracy: 0.7806\n",
            "Epoch 108/160\n",
            "118/118 [==============================] - 0s 4ms/step - loss: 0.8830 - accuracy: 0.7810\n",
            "Epoch 109/160\n",
            "118/118 [==============================] - 0s 4ms/step - loss: 0.8758 - accuracy: 0.7829\n",
            "Epoch 110/160\n",
            "118/118 [==============================] - 0s 4ms/step - loss: 0.8688 - accuracy: 0.7839\n",
            "Epoch 111/160\n",
            "118/118 [==============================] - 0s 4ms/step - loss: 0.8619 - accuracy: 0.7855\n",
            "Epoch 112/160\n",
            "118/118 [==============================] - 0s 4ms/step - loss: 0.8551 - accuracy: 0.7867\n",
            "Epoch 113/160\n",
            "118/118 [==============================] - 1s 4ms/step - loss: 0.8485 - accuracy: 0.7878\n",
            "Epoch 114/160\n",
            "118/118 [==============================] - 0s 4ms/step - loss: 0.8421 - accuracy: 0.7891\n",
            "Epoch 115/160\n",
            "118/118 [==============================] - 0s 4ms/step - loss: 0.8358 - accuracy: 0.7903\n",
            "Epoch 116/160\n",
            "118/118 [==============================] - 0s 4ms/step - loss: 0.8296 - accuracy: 0.7918\n",
            "Epoch 117/160\n",
            "118/118 [==============================] - 0s 4ms/step - loss: 0.8236 - accuracy: 0.7929\n",
            "Epoch 118/160\n",
            "118/118 [==============================] - 1s 4ms/step - loss: 0.8176 - accuracy: 0.7943\n",
            "Epoch 119/160\n",
            "118/118 [==============================] - 0s 4ms/step - loss: 0.8119 - accuracy: 0.7956\n",
            "Epoch 120/160\n",
            "118/118 [==============================] - 1s 4ms/step - loss: 0.8062 - accuracy: 0.7966\n",
            "Epoch 121/160\n",
            "118/118 [==============================] - 0s 4ms/step - loss: 0.8006 - accuracy: 0.7978\n",
            "Epoch 122/160\n",
            "118/118 [==============================] - 1s 4ms/step - loss: 0.7952 - accuracy: 0.7990\n",
            "Epoch 123/160\n",
            "118/118 [==============================] - 0s 4ms/step - loss: 0.7898 - accuracy: 0.8003\n",
            "Epoch 124/160\n",
            "118/118 [==============================] - 1s 4ms/step - loss: 0.7846 - accuracy: 0.8013\n",
            "Epoch 125/160\n",
            "118/118 [==============================] - 0s 4ms/step - loss: 0.7795 - accuracy: 0.8023\n",
            "Epoch 126/160\n",
            "118/118 [==============================] - 1s 7ms/step - loss: 0.7745 - accuracy: 0.8035\n",
            "Epoch 127/160\n",
            "118/118 [==============================] - 1s 6ms/step - loss: 0.7696 - accuracy: 0.8044\n",
            "Epoch 128/160\n",
            "118/118 [==============================] - 1s 6ms/step - loss: 0.7647 - accuracy: 0.8055\n",
            "Epoch 129/160\n",
            "118/118 [==============================] - 1s 7ms/step - loss: 0.7600 - accuracy: 0.8066\n",
            "Epoch 130/160\n",
            "118/118 [==============================] - 1s 7ms/step - loss: 0.7554 - accuracy: 0.8074\n",
            "Epoch 131/160\n",
            "118/118 [==============================] - 1s 6ms/step - loss: 0.7508 - accuracy: 0.8083\n",
            "Epoch 132/160\n",
            "118/118 [==============================] - 0s 4ms/step - loss: 0.7463 - accuracy: 0.8093\n",
            "Epoch 133/160\n",
            "118/118 [==============================] - 0s 4ms/step - loss: 0.7420 - accuracy: 0.8101\n",
            "Epoch 134/160\n",
            "118/118 [==============================] - 0s 4ms/step - loss: 0.7376 - accuracy: 0.8112\n",
            "Epoch 135/160\n",
            "118/118 [==============================] - 0s 4ms/step - loss: 0.7334 - accuracy: 0.8119\n",
            "Epoch 136/160\n",
            "118/118 [==============================] - 1s 4ms/step - loss: 0.7293 - accuracy: 0.8131\n",
            "Epoch 137/160\n",
            "118/118 [==============================] - 0s 4ms/step - loss: 0.7252 - accuracy: 0.8138\n",
            "Epoch 138/160\n",
            "118/118 [==============================] - 0s 4ms/step - loss: 0.7212 - accuracy: 0.8144\n",
            "Epoch 139/160\n",
            "118/118 [==============================] - 0s 4ms/step - loss: 0.7172 - accuracy: 0.8155\n",
            "Epoch 140/160\n",
            "118/118 [==============================] - 1s 4ms/step - loss: 0.7133 - accuracy: 0.8162\n",
            "Epoch 141/160\n",
            "118/118 [==============================] - 0s 4ms/step - loss: 0.7095 - accuracy: 0.8171\n",
            "Epoch 142/160\n",
            "118/118 [==============================] - 0s 4ms/step - loss: 0.7057 - accuracy: 0.8179\n",
            "Epoch 143/160\n",
            "118/118 [==============================] - 0s 4ms/step - loss: 0.7021 - accuracy: 0.8185\n",
            "Epoch 144/160\n",
            "118/118 [==============================] - 0s 4ms/step - loss: 0.6984 - accuracy: 0.8194\n",
            "Epoch 145/160\n",
            "118/118 [==============================] - 0s 4ms/step - loss: 0.6948 - accuracy: 0.8200\n",
            "Epoch 146/160\n",
            "118/118 [==============================] - 0s 4ms/step - loss: 0.6913 - accuracy: 0.8207\n",
            "Epoch 147/160\n",
            "118/118 [==============================] - 0s 4ms/step - loss: 0.6878 - accuracy: 0.8216\n",
            "Epoch 148/160\n",
            "118/118 [==============================] - 0s 4ms/step - loss: 0.6844 - accuracy: 0.8221\n",
            "Epoch 149/160\n",
            "118/118 [==============================] - 0s 4ms/step - loss: 0.6810 - accuracy: 0.8227\n",
            "Epoch 150/160\n",
            "118/118 [==============================] - 0s 4ms/step - loss: 0.6777 - accuracy: 0.8234\n",
            "Epoch 151/160\n",
            "118/118 [==============================] - 1s 5ms/step - loss: 0.6745 - accuracy: 0.8242\n",
            "Epoch 152/160\n",
            "118/118 [==============================] - 1s 6ms/step - loss: 0.6712 - accuracy: 0.8249\n",
            "Epoch 153/160\n",
            "118/118 [==============================] - 1s 6ms/step - loss: 0.6681 - accuracy: 0.8259\n",
            "Epoch 154/160\n",
            "118/118 [==============================] - 1s 6ms/step - loss: 0.6649 - accuracy: 0.8266\n",
            "Epoch 155/160\n",
            "118/118 [==============================] - 1s 6ms/step - loss: 0.6618 - accuracy: 0.8273\n",
            "Epoch 156/160\n",
            "118/118 [==============================] - 1s 7ms/step - loss: 0.6588 - accuracy: 0.8282\n",
            "Epoch 157/160\n",
            "118/118 [==============================] - 1s 6ms/step - loss: 0.6558 - accuracy: 0.8289\n",
            "Epoch 158/160\n",
            "118/118 [==============================] - 1s 4ms/step - loss: 0.6528 - accuracy: 0.8294\n",
            "Epoch 159/160\n",
            "118/118 [==============================] - 0s 4ms/step - loss: 0.6499 - accuracy: 0.8300\n",
            "Epoch 160/160\n",
            "118/118 [==============================] - 0s 4ms/step - loss: 0.6470 - accuracy: 0.8305\n"
          ]
        },
        {
          "output_type": "execute_result",
          "data": {
            "text/plain": [
              "<keras.src.callbacks.History at 0x7e6732409210>"
            ]
          },
          "metadata": {},
          "execution_count": 15
        }
      ]
    },
    {
      "cell_type": "code",
      "source": [
        "test_loss, test_acc = network.evaluate(test_images, test_labels)\n",
        "print('Test Accuracy: {:.5f} '.format(test_acc))\n",
        "test_acc"
      ],
      "metadata": {
        "colab": {
          "base_uri": "https://localhost:8080/"
        },
        "id": "lxgwEbxmozey",
        "outputId": "e85828a6-5b03-4f0a-91d0-d6a4fb0dcef4"
      },
      "execution_count": 16,
      "outputs": [
        {
          "output_type": "stream",
          "name": "stdout",
          "text": [
            "313/313 [==============================] - 1s 2ms/step - loss: 0.6345 - accuracy: 0.8346\n",
            "Test Accuracy: 0.83460 \n"
          ]
        },
        {
          "output_type": "execute_result",
          "data": {
            "text/plain": [
              "0.8345999717712402"
            ]
          },
          "metadata": {},
          "execution_count": 16
        }
      ]
    },
    {
      "cell_type": "code",
      "source": [
        "from keras.utils import plot_model\n",
        "plot_model(network, to_file='model.png')\n",
        "import matplotlib.pyplot as plt\n",
        "history =network.fit(train_images, train_labels, validation_split=0.33,epochs=5, batch_size=512)\n",
        "history_dict = history.history\n",
        "print(history_dict.keys())\n",
        "plt.plot(history.history['accuracy'])\n",
        "plt.plot(history.history['val_accuracy'])\n",
        "plt.title('Model accuracy')\n",
        "plt.ylabel('Accuracy')\n",
        "plt.xlabel('Epoch')\n",
        "plt.legend(['Train', 'Test'], loc='upper left')\n",
        "plt.show()\n",
        "\n",
        "\n",
        "# Plot training & validation loss values\n",
        "plt.plot(history.history['loss'])\n",
        "plt.plot(history.history['val_loss'])\n",
        "plt.title('Model loss')\n",
        "plt.ylabel('Loss')\n",
        "plt.xlabel('Epoch')\n",
        "plt.legend(['Train', 'Test'], loc='upper left')\n",
        "plt.show()\n"
      ],
      "metadata": {
        "colab": {
          "base_uri": "https://localhost:8080/",
          "height": 1000
        },
        "id": "3vpftWmpo195",
        "outputId": "9aca85cc-146d-41cd-c0fe-93ea3b39e9e4"
      },
      "execution_count": 17,
      "outputs": [
        {
          "output_type": "stream",
          "name": "stdout",
          "text": [
            "Epoch 1/5\n",
            "79/79 [==============================] - 1s 7ms/step - loss: 0.6495 - accuracy: 0.8300 - val_loss: 0.6337 - val_accuracy: 0.8336\n",
            "Epoch 2/5\n",
            "79/79 [==============================] - 0s 6ms/step - loss: 0.6475 - accuracy: 0.8302 - val_loss: 0.6319 - val_accuracy: 0.8339\n",
            "Epoch 3/5\n",
            "79/79 [==============================] - 0s 6ms/step - loss: 0.6456 - accuracy: 0.8308 - val_loss: 0.6301 - val_accuracy: 0.8345\n",
            "Epoch 4/5\n",
            "79/79 [==============================] - 0s 6ms/step - loss: 0.6437 - accuracy: 0.8312 - val_loss: 0.6283 - val_accuracy: 0.8350\n",
            "Epoch 5/5\n",
            "79/79 [==============================] - 0s 6ms/step - loss: 0.6418 - accuracy: 0.8320 - val_loss: 0.6266 - val_accuracy: 0.8352\n",
            "dict_keys(['loss', 'accuracy', 'val_loss', 'val_accuracy'])\n"
          ]
        },
        {
          "output_type": "display_data",
          "data": {
            "text/plain": [
              "<Figure size 640x480 with 1 Axes>"
            ],
            "image/png": "[encoded data removed]"
          },
          "metadata": {}
        },
        {
          "output_type": "display_data",
          "data": {
            "text/plain": [
              "<Figure size 640x480 with 1 Axes>"
            ],
            "image/png": "[encoded data removed]"
          },
          "metadata": {}
        }
      ]
    }
  ]
}